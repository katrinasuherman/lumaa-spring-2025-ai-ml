{
 "cells": [
  {
   "cell_type": "code",
   "execution_count": 1,
   "metadata": {},
   "outputs": [],
   "source": [
    "import pandas as pd\n",
    "from sklearn.feature_extraction.text import TfidfVectorizer\n",
    "from sklearn.metrics.pairwise import cosine_similarity\n",
    "import numpy as np"
   ]
  },
  {
   "cell_type": "markdown",
   "metadata": {},
   "source": [
    "### Loading the data and data cleaning"
   ]
  },
  {
   "cell_type": "code",
   "execution_count": 2,
   "metadata": {},
   "outputs": [
    {
     "data": {
      "text/html": [
       "<div>\n",
       "<style scoped>\n",
       "    .dataframe tbody tr th:only-of-type {\n",
       "        vertical-align: middle;\n",
       "    }\n",
       "\n",
       "    .dataframe tbody tr th {\n",
       "        vertical-align: top;\n",
       "    }\n",
       "\n",
       "    .dataframe thead th {\n",
       "        text-align: right;\n",
       "    }\n",
       "</style>\n",
       "<table border=\"1\" class=\"dataframe\">\n",
       "  <thead>\n",
       "    <tr style=\"text-align: right;\">\n",
       "      <th></th>\n",
       "      <th>Movie Name</th>\n",
       "      <th>Rating</th>\n",
       "      <th>Runtime</th>\n",
       "      <th>Genre</th>\n",
       "      <th>Metascore</th>\n",
       "      <th>Plot</th>\n",
       "      <th>Directors</th>\n",
       "      <th>Stars</th>\n",
       "      <th>Votes</th>\n",
       "      <th>Gross</th>\n",
       "      <th>Link</th>\n",
       "    </tr>\n",
       "  </thead>\n",
       "  <tbody>\n",
       "    <tr>\n",
       "      <th>0</th>\n",
       "      <td>The Godfather</td>\n",
       "      <td>9.2</td>\n",
       "      <td>175 min</td>\n",
       "      <td>Crime, Drama</td>\n",
       "      <td>100.0</td>\n",
       "      <td>Don Vito Corleone, head of a mafia family, dec...</td>\n",
       "      <td>Francis Ford Coppola</td>\n",
       "      <td>Marlon Brando, Al Pacino, James Caan, Diane Ke...</td>\n",
       "      <td>1914405</td>\n",
       "      <td>134,966,411</td>\n",
       "      <td>https://www.imdb.com/title/tt0068646/</td>\n",
       "    </tr>\n",
       "    <tr>\n",
       "      <th>1</th>\n",
       "      <td>The Shawshank Redemption</td>\n",
       "      <td>9.3</td>\n",
       "      <td>142 min</td>\n",
       "      <td>Drama</td>\n",
       "      <td>82.0</td>\n",
       "      <td>Over the course of several years, two convicts...</td>\n",
       "      <td>Frank Darabont</td>\n",
       "      <td>Tim Robbins, Morgan Freeman, Bob Gunton, Willi...</td>\n",
       "      <td>2751997</td>\n",
       "      <td>28,341,469</td>\n",
       "      <td>https://www.imdb.com/title/tt0111161/</td>\n",
       "    </tr>\n",
       "    <tr>\n",
       "      <th>2</th>\n",
       "      <td>Shichinin no samurai</td>\n",
       "      <td>8.6</td>\n",
       "      <td>207 min</td>\n",
       "      <td>Action, Drama</td>\n",
       "      <td>98.0</td>\n",
       "      <td>Farmers from a village exploited by bandits hi...</td>\n",
       "      <td>Akira Kurosawa</td>\n",
       "      <td>Toshirô Mifune, Takashi Shimura, Keiko Tsushim...</td>\n",
       "      <td>353392</td>\n",
       "      <td>269,061</td>\n",
       "      <td>https://www.imdb.com/title/tt0047478/</td>\n",
       "    </tr>\n",
       "    <tr>\n",
       "      <th>3</th>\n",
       "      <td>Cidade de Deus</td>\n",
       "      <td>8.6</td>\n",
       "      <td>130 min</td>\n",
       "      <td>Crime, Drama</td>\n",
       "      <td>79.0</td>\n",
       "      <td>In the slums of Rio, two kids' paths diverge a...</td>\n",
       "      <td>Fernando Meirelles</td>\n",
       "      <td>Kátia Lund, Alexandre Rodrigues, Leandro Firmi...</td>\n",
       "      <td>772169</td>\n",
       "      <td>7,563,397</td>\n",
       "      <td>https://www.imdb.com/title/tt0317248/</td>\n",
       "    </tr>\n",
       "    <tr>\n",
       "      <th>4</th>\n",
       "      <td>The Godfather Part II</td>\n",
       "      <td>9.0</td>\n",
       "      <td>202 min</td>\n",
       "      <td>Crime, Drama</td>\n",
       "      <td>90.0</td>\n",
       "      <td>The early life and career of Vito Corleone in ...</td>\n",
       "      <td>Francis Ford Coppola</td>\n",
       "      <td>Al Pacino, Robert De Niro, Robert Duvall, Dian...</td>\n",
       "      <td>1303664</td>\n",
       "      <td>57,300,000</td>\n",
       "      <td>https://www.imdb.com/title/tt0071562/</td>\n",
       "    </tr>\n",
       "  </tbody>\n",
       "</table>\n",
       "</div>"
      ],
      "text/plain": [
       "                 Movie Name  Rating  Runtime          Genre  Metascore  \\\n",
       "0             The Godfather     9.2  175 min   Crime, Drama      100.0   \n",
       "1  The Shawshank Redemption     9.3  142 min          Drama       82.0   \n",
       "2      Shichinin no samurai     8.6  207 min  Action, Drama       98.0   \n",
       "3            Cidade de Deus     8.6  130 min   Crime, Drama       79.0   \n",
       "4     The Godfather Part II     9.0  202 min   Crime, Drama       90.0   \n",
       "\n",
       "                                                Plot             Directors  \\\n",
       "0  Don Vito Corleone, head of a mafia family, dec...  Francis Ford Coppola   \n",
       "1  Over the course of several years, two convicts...        Frank Darabont   \n",
       "2  Farmers from a village exploited by bandits hi...        Akira Kurosawa   \n",
       "3  In the slums of Rio, two kids' paths diverge a...    Fernando Meirelles   \n",
       "4  The early life and career of Vito Corleone in ...  Francis Ford Coppola   \n",
       "\n",
       "                                               Stars    Votes        Gross  \\\n",
       "0  Marlon Brando, Al Pacino, James Caan, Diane Ke...  1914405  134,966,411   \n",
       "1  Tim Robbins, Morgan Freeman, Bob Gunton, Willi...  2751997   28,341,469   \n",
       "2  Toshirô Mifune, Takashi Shimura, Keiko Tsushim...   353392      269,061   \n",
       "3  Kátia Lund, Alexandre Rodrigues, Leandro Firmi...   772169    7,563,397   \n",
       "4  Al Pacino, Robert De Niro, Robert Duvall, Dian...  1303664   57,300,000   \n",
       "\n",
       "                                    Link  \n",
       "0  https://www.imdb.com/title/tt0068646/  \n",
       "1  https://www.imdb.com/title/tt0111161/  \n",
       "2  https://www.imdb.com/title/tt0047478/  \n",
       "3  https://www.imdb.com/title/tt0317248/  \n",
       "4  https://www.imdb.com/title/tt0071562/  "
      ]
     },
     "execution_count": 2,
     "metadata": {},
     "output_type": "execute_result"
    }
   ],
   "source": [
    "df = pd.read_csv('data/Top_Movies.csv')\n",
    "df.head()"
   ]
  },
  {
   "cell_type": "markdown",
   "metadata": {},
   "source": [
    "Check for missing values and choose the relevant columns for the analysis"
   ]
  },
  {
   "cell_type": "code",
   "execution_count": 3,
   "metadata": {},
   "outputs": [
    {
     "name": "stdout",
     "output_type": "stream",
     "text": [
      "<class 'pandas.core.frame.DataFrame'>\n",
      "RangeIndex: 502 entries, 0 to 501\n",
      "Data columns (total 11 columns):\n",
      " #   Column      Non-Null Count  Dtype  \n",
      "---  ------      --------------  -----  \n",
      " 0   Movie Name  502 non-null    object \n",
      " 1   Rating      502 non-null    float64\n",
      " 2   Runtime     502 non-null    object \n",
      " 3   Genre       502 non-null    object \n",
      " 4   Metascore   480 non-null    float64\n",
      " 5   Plot        502 non-null    object \n",
      " 6   Directors   502 non-null    object \n",
      " 7   Stars       502 non-null    object \n",
      " 8   Votes       502 non-null    int64  \n",
      " 9   Gross       458 non-null    object \n",
      " 10  Link        502 non-null    object \n",
      "dtypes: float64(2), int64(1), object(8)\n",
      "memory usage: 43.3+ KB\n"
     ]
    }
   ],
   "source": [
    "df.info()"
   ]
  },
  {
   "cell_type": "markdown",
   "metadata": {},
   "source": [
    "There are no missing values for the relevant columns so now I just take the 2 columns that are important for this analysis and rename it."
   ]
  },
  {
   "cell_type": "code",
   "execution_count": 4,
   "metadata": {},
   "outputs": [
    {
     "data": {
      "text/html": [
       "<div>\n",
       "<style scoped>\n",
       "    .dataframe tbody tr th:only-of-type {\n",
       "        vertical-align: middle;\n",
       "    }\n",
       "\n",
       "    .dataframe tbody tr th {\n",
       "        vertical-align: top;\n",
       "    }\n",
       "\n",
       "    .dataframe thead th {\n",
       "        text-align: right;\n",
       "    }\n",
       "</style>\n",
       "<table border=\"1\" class=\"dataframe\">\n",
       "  <thead>\n",
       "    <tr style=\"text-align: right;\">\n",
       "      <th></th>\n",
       "      <th>title</th>\n",
       "      <th>description</th>\n",
       "    </tr>\n",
       "  </thead>\n",
       "  <tbody>\n",
       "    <tr>\n",
       "      <th>0</th>\n",
       "      <td>The Godfather</td>\n",
       "      <td>Don Vito Corleone, head of a mafia family, dec...</td>\n",
       "    </tr>\n",
       "    <tr>\n",
       "      <th>1</th>\n",
       "      <td>The Shawshank Redemption</td>\n",
       "      <td>Over the course of several years, two convicts...</td>\n",
       "    </tr>\n",
       "    <tr>\n",
       "      <th>2</th>\n",
       "      <td>Shichinin no samurai</td>\n",
       "      <td>Farmers from a village exploited by bandits hi...</td>\n",
       "    </tr>\n",
       "    <tr>\n",
       "      <th>3</th>\n",
       "      <td>Cidade de Deus</td>\n",
       "      <td>In the slums of Rio, two kids' paths diverge a...</td>\n",
       "    </tr>\n",
       "    <tr>\n",
       "      <th>4</th>\n",
       "      <td>The Godfather Part II</td>\n",
       "      <td>The early life and career of Vito Corleone in ...</td>\n",
       "    </tr>\n",
       "  </tbody>\n",
       "</table>\n",
       "</div>"
      ],
      "text/plain": [
       "                      title                                        description\n",
       "0             The Godfather  Don Vito Corleone, head of a mafia family, dec...\n",
       "1  The Shawshank Redemption  Over the course of several years, two convicts...\n",
       "2      Shichinin no samurai  Farmers from a village exploited by bandits hi...\n",
       "3            Cidade de Deus  In the slums of Rio, two kids' paths diverge a...\n",
       "4     The Godfather Part II  The early life and career of Vito Corleone in ..."
      ]
     },
     "execution_count": 4,
     "metadata": {},
     "output_type": "execute_result"
    }
   ],
   "source": [
    "df = df[['Movie Name', 'Plot']]\n",
    "df.rename(columns={'Movie Name': 'title', 'Plot': 'description'}, inplace=True)\n",
    "df.head()"
   ]
  },
  {
   "cell_type": "markdown",
   "metadata": {},
   "source": [
    "Checking if it contains any duplicate title and remove it if there are any duplicates"
   ]
  },
  {
   "cell_type": "code",
   "execution_count": 5,
   "metadata": {},
   "outputs": [
    {
     "data": {
      "text/plain": [
       "450"
      ]
     },
     "execution_count": 5,
     "metadata": {},
     "output_type": "execute_result"
    }
   ],
   "source": [
    "df['title'].nunique()"
   ]
  },
  {
   "cell_type": "code",
   "execution_count": 6,
   "metadata": {},
   "outputs": [
    {
     "data": {
      "text/html": [
       "<div>\n",
       "<style scoped>\n",
       "    .dataframe tbody tr th:only-of-type {\n",
       "        vertical-align: middle;\n",
       "    }\n",
       "\n",
       "    .dataframe tbody tr th {\n",
       "        vertical-align: top;\n",
       "    }\n",
       "\n",
       "    .dataframe thead th {\n",
       "        text-align: right;\n",
       "    }\n",
       "</style>\n",
       "<table border=\"1\" class=\"dataframe\">\n",
       "  <thead>\n",
       "    <tr style=\"text-align: right;\">\n",
       "      <th></th>\n",
       "      <th>title</th>\n",
       "      <th>description</th>\n",
       "    </tr>\n",
       "  </thead>\n",
       "  <tbody>\n",
       "    <tr>\n",
       "      <th>0</th>\n",
       "      <td>The Godfather</td>\n",
       "      <td>Don Vito Corleone, head of a mafia family, dec...</td>\n",
       "    </tr>\n",
       "    <tr>\n",
       "      <th>1</th>\n",
       "      <td>The Shawshank Redemption</td>\n",
       "      <td>Over the course of several years, two convicts...</td>\n",
       "    </tr>\n",
       "    <tr>\n",
       "      <th>2</th>\n",
       "      <td>Shichinin no samurai</td>\n",
       "      <td>Farmers from a village exploited by bandits hi...</td>\n",
       "    </tr>\n",
       "    <tr>\n",
       "      <th>3</th>\n",
       "      <td>Cidade de Deus</td>\n",
       "      <td>In the slums of Rio, two kids' paths diverge a...</td>\n",
       "    </tr>\n",
       "    <tr>\n",
       "      <th>4</th>\n",
       "      <td>The Godfather Part II</td>\n",
       "      <td>The early life and career of Vito Corleone in ...</td>\n",
       "    </tr>\n",
       "  </tbody>\n",
       "</table>\n",
       "</div>"
      ],
      "text/plain": [
       "                      title                                        description\n",
       "0             The Godfather  Don Vito Corleone, head of a mafia family, dec...\n",
       "1  The Shawshank Redemption  Over the course of several years, two convicts...\n",
       "2      Shichinin no samurai  Farmers from a village exploited by bandits hi...\n",
       "3            Cidade de Deus  In the slums of Rio, two kids' paths diverge a...\n",
       "4     The Godfather Part II  The early life and career of Vito Corleone in ..."
      ]
     },
     "execution_count": 6,
     "metadata": {},
     "output_type": "execute_result"
    }
   ],
   "source": [
    "df = df.drop_duplicates(subset='title', keep='first')\n",
    "df.head()"
   ]
  },
  {
   "cell_type": "markdown",
   "metadata": {},
   "source": [
    "### Vectorizing the data"
   ]
  },
  {
   "cell_type": "code",
   "execution_count": 7,
   "metadata": {},
   "outputs": [
    {
     "data": {
      "text/plain": [
       "(450, 3352)"
      ]
     },
     "execution_count": 7,
     "metadata": {},
     "output_type": "execute_result"
    }
   ],
   "source": [
    "# Initialize TF-IDF vectorizer with English stopwords\n",
    "vectorizer = TfidfVectorizer(stop_words='english')\n",
    "\n",
    "# Fit and transform the movie descriptions\n",
    "tfidf_matrix = vectorizer.fit_transform(df['description'])\n",
    "\n",
    "# Display the shape of the resulting matrix\n",
    "tfidf_matrix.shape\n"
   ]
  },
  {
   "cell_type": "code",
   "execution_count": 8,
   "metadata": {},
   "outputs": [],
   "source": [
    "# Function to recommend movies based on user input\n",
    "def recommend_movies(query):\n",
    "    # Convert query to TF-IDF vector\n",
    "    query_vec = vectorizer.transform([query])\n",
    "    \n",
    "    # Compute cosine similarity between query and movie descriptions\n",
    "    similarities = cosine_similarity(query_vec, tfidf_matrix).flatten()\n",
    "    \n",
    "    # Get top N similar movie indices\n",
    "    top_indices = np.argsort(similarities)[::-1][:5]\n",
    "    \n",
    "    # Fetch recommended movie titles with similarity scores\n",
    "    recommendations = [(df.iloc[idx]['title'], similarities[idx]) for idx in top_indices]\n",
    "    \n",
    "    return recommendations\n"
   ]
  },
  {
   "cell_type": "markdown",
   "metadata": {},
   "source": [
    "### Computing the similarity"
   ]
  },
  {
   "cell_type": "code",
   "execution_count": 14,
   "metadata": {},
   "outputs": [
    {
     "data": {
      "text/plain": [
       "[('Gravity', np.float64(0.1874574829193349)),\n",
       " ('Clerks', np.float64(0.15149353815534727)),\n",
       " ('Blade Runner', np.float64(0.1365436067298417)),\n",
       " ('The Incredibles', np.float64(0.13616673588442266)),\n",
       " ('WALL·E', np.float64(0.1266038266002731))]"
      ]
     },
     "execution_count": 14,
     "metadata": {},
     "output_type": "execute_result"
    }
   ],
   "source": [
    "test_query = 'I love thrilling action movies set in space, with a comedic twist.'\n",
    "recommendations = recommend_movies(test_query)\n",
    "\n",
    "recommendations"
   ]
  },
  {
   "cell_type": "markdown",
   "metadata": {},
   "source": [
    "### Try it out yourself!"
   ]
  },
  {
   "cell_type": "markdown",
   "metadata": {},
   "source": [
    "To test out the analysis just change the **query_description** to anything you want and run the recommend_movies function"
   ]
  },
  {
   "cell_type": "code",
   "execution_count": 12,
   "metadata": {},
   "outputs": [],
   "source": [
    "query_description = \"I love romance comedy movies.\""
   ]
  },
  {
   "cell_type": "code",
   "execution_count": 13,
   "metadata": {},
   "outputs": [
    {
     "data": {
      "text/plain": [
       "[('Crazy Heart', np.float64(0.16980078153858147)),\n",
       " ('Clerks', np.float64(0.15536001039605882)),\n",
       " ('Todo sobre mi madre', np.float64(0.14592684132320902)),\n",
       " ('The Apartment', np.float64(0.1411897503252735)),\n",
       " ('Roman Holiday', np.float64(0.07080155570344575))]"
      ]
     },
     "execution_count": 13,
     "metadata": {},
     "output_type": "execute_result"
    }
   ],
   "source": [
    "recommend_movies(query_description)"
   ]
  }
 ],
 "metadata": {
  "kernelspec": {
   "display_name": "Python 3",
   "language": "python",
   "name": "python3"
  },
  "language_info": {
   "codemirror_mode": {
    "name": "ipython",
    "version": 3
   },
   "file_extension": ".py",
   "mimetype": "text/x-python",
   "name": "python",
   "nbconvert_exporter": "python",
   "pygments_lexer": "ipython3",
   "version": "3.12.6"
  }
 },
 "nbformat": 4,
 "nbformat_minor": 2
}
